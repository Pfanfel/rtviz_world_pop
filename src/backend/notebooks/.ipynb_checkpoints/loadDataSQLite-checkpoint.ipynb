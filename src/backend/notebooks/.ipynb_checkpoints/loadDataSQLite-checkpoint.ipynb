{
 "cells": [
  {
   "cell_type": "code",
   "execution_count": 1,
   "metadata": {},
   "outputs": [],
   "source": [
    "# Import necessary libraries\n",
    "%load_ext autoreload\n",
    "%autoreload 2\n",
    "\n",
    "import pandas as pd\n",
    "import sqlite3\n",
    "import xarray as xr\n",
    "import numpy as np\n",
    "from pyquadkey2 import quadkey"
   ]
  },
  {
   "cell_type": "code",
   "execution_count": 2,
   "metadata": {},
   "outputs": [],
   "source": [
    "# SQLite connection\n",
    "con = sqlite3.connect(\"../../data/quadkeyDB.sqlite\")"
   ]
  },
  {
   "cell_type": "code",
   "execution_count": 3,
   "metadata": {},
   "outputs": [],
   "source": [
    "# Create table in SQLite if it does not exist\n",
    "create_table_query = \"\"\"\n",
    "CREATE TABLE IF NOT EXISTS data_slice_male_long_lat (\n",
    "    quadkey TEXT,\n",
    "    raster_1 REAL,\n",
    "    raster_2 REAL,\n",
    "    raster_3 REAL,\n",
    "    raster_4 REAL,\n",
    "    raster_5 REAL,\n",
    "    raster_6 REAL,\n",
    "    raster_7 REAL,\n",
    "    raster_8 REAL,\n",
    "    raster_9 REAL,\n",
    "    raster_10 REAL,\n",
    "    raster_11 REAL,\n",
    "    raster_12 REAL,\n",
    "    raster_13 REAL,\n",
    "    raster_14 REAL,\n",
    "    raster_15 REAL,\n",
    "    raster_16 REAL,\n",
    "    raster_17 REAL,\n",
    "    raster_18 REAL,\n",
    "    raster_19 REAL,\n",
    "    raster_20 REAL,\n",
    "    raster_21 REAL,\n",
    "    raster_22 REAL,\n",
    "    raster_23 REAL,\n",
    "    raster_24 REAL,\n",
    "    raster_25 REAL,\n",
    "    raster_26 REAL,\n",
    "    raster_27 REAL,\n",
    "    raster_28 REAL,\n",
    "    raster_29 REAL,\n",
    "    raster_30 REAL\n",
    ");\n",
    "\"\"\"\n",
    "con.execute(create_table_query)\n",
    "con.commit()\n",
    "\n"
   ]
  },
  {
   "cell_type": "code",
   "execution_count": 6,
   "metadata": {},
   "outputs": [],
   "source": [
    "# Function to insert a DataFrame into the SQLite database\n",
    "def insert_into_db(df):\n",
    "    df.to_sql(\"data_slice_male_long_lat\", con, if_exists=\"append\", index=False)\n",
    "\n",
    "# Function to load dataset\n",
    "\n",
    "def load_dataset(file_path, lat_slice, lon_slice):\n",
    "    dataset = xr.open_dataset(file_path)\n",
    "    # Process dataset chunk\n",
    "    data_slice = dataset.sel(latitude=lat_slice, longitude=lon_slice)\n",
    "    data_slice = data_slice[\n",
    "        \"Basic Demographic Characteristics, v4.10 (2010): Male, Density, 2.5 arc-minutes\"\n",
    "    ]\n",
    "    return data_slice.compute()\n",
    "\n",
    "# Function to extract data points with quadkeys\n",
    "def extract_data_points_vectorized_quadkey(ds):\n",
    "    data_points = []\n",
    "    longs = ds.longitude.values\n",
    "    lats = ds.latitude.values\n",
    "\n",
    "    zoom_level = 14  # Precision level\n",
    "\n",
    "    for x in range(len(lats)):\n",
    "        for y in range(len(longs)):\n",
    "            coord = (lats[x], longs[y])\n",
    "            tile = quadkey.from_geo(coord, zoom_level)\n",
    "            quadkey_str = tile.key\n",
    "            raster_values = ds.values[:, x, y]\n",
    "            data_points.append([quadkey_str] + list(raster_values))\n",
    "\n",
    "    columns = ['quadkey'] + [f'raster_{i + 1}' for i in range(ds.shape[0])]\n",
    "    df = pd.DataFrame(data_points, columns=columns)\n",
    "    return df\n",
    "\n",
    "# Function to load dataset chunks into SQLite database\n",
    "def load_male_dataset_into_db():\n",
    "    file_path_male = \"../../data/gpw_v4_basic_demographic_characteristics_rev11_mt_2010_dens_2pt5_min.nc\"\n",
    "\n",
    "    for lat_start in range(85, -85, -10):\n",
    "        lat_end = lat_start - 10\n",
    "        lat_slice = slice(lat_start, lat_end)\n",
    "\n",
    "        for lon_start in range(-180, 180, 10):\n",
    "            lon_end = lon_start + 10\n",
    "            lon_slice = slice(lon_start, lon_end)\n",
    "\n",
    "            print(f\"Processing lat: {lat_start} to {lat_end}, lon: {lon_start} to {lon_end}\")\n",
    "\n",
    "            data_slice_male = load_dataset(file_path_male, lat_slice, lon_slice)\n",
    "            data_slice_male_quadkey = extract_data_points_vectorized_quadkey(data_slice_male)\n",
    "\n",
    "            insert_into_db(data_slice_male_quadkey)\n",
    "\n",
    "# Function to compute parent levels in quadkeys\n",
    "def insert_parents_for_level(n, table_name):\n",
    "    for group in range(0, 4):\n",
    "        query = f\"\"\"\n",
    "        INSERT INTO {table_name}\n",
    "        SELECT\n",
    "            SUBSTR(quadkey, 1, {n - 1}) AS parent_quadkey,\n",
    "            AVG(raster_1) AS raster_1,\n",
    "            AVG(raster_2) AS raster_2,\n",
    "            AVG(raster_3) AS raster_3,\n",
    "            AVG(raster_4) AS raster_4,\n",
    "            AVG(raster_5) AS raster_5,\n",
    "            AVG(raster_6) AS raster_6,\n",
    "            AVG(raster_7) AS raster_7,\n",
    "            AVG(raster_8) AS raster_8,\n",
    "            AVG(raster_9) AS raster_9,\n",
    "            AVG(raster_10) AS raster_10,\n",
    "            AVG(raster_11) AS raster_11,\n",
    "            AVG(raster_12) AS raster_12,\n",
    "            AVG(raster_13) AS raster_13,\n",
    "            AVG(raster_14) AS raster_14,\n",
    "            AVG(raster_15) AS raster_15,\n",
    "            AVG(raster_16) AS raster_16,\n",
    "            AVG(raster_17) AS raster_17,\n",
    "            AVG(raster_18) AS raster_18,\n",
    "            AVG(raster_19) AS raster_19,\n",
    "            AVG(raster_20) AS raster_20,\n",
    "            AVG(raster_21) AS raster_21,\n",
    "            AVG(raster_22) AS raster_22,\n",
    "            AVG(raster_23) AS raster_23,\n",
    "            AVG(raster_24) AS raster_24,\n",
    "            AVG(raster_25) AS raster_25,\n",
    "            AVG(raster_26) AS raster_26,\n",
    "            AVG(raster_27) AS raster_27,\n",
    "            AVG(raster_28) AS raster_28,\n",
    "            AVG(raster_29) AS raster_29,\n",
    "            AVG(raster_30) AS raster_30\n",
    "        FROM {table_name}\n",
    "        WHERE LENGTH(quadkey) = {n}\n",
    "          AND SUBSTR(quadkey, 1, 1) = '{group}'\n",
    "        GROUP BY parent_quadkey\n",
    "        \"\"\"\n",
    "        con.execute(query)\n",
    "        con.commit()\n",
    "\n",
    "# Load all aggregation levels into database\n",
    "def load_all_aggregation_data_into_db():\n",
    "    n = 14\n",
    "    for n in range(n, 0, -1):\n",
    "        print(f\"Processing aggregation for level {n}\")\n",
    "        insert_parents_for_level(n, \"data_slice_male_long_lat\")\n",
    "\n"
   ]
  },
  {
   "cell_type": "code",
   "execution_count": 7,
   "metadata": {},
   "outputs": [
    {
     "name": "stdout",
     "output_type": "stream",
     "text": [
      "Processing lat: 85 to 75, lon: -180 to -170\n",
      "Processing lat: 85 to 75, lon: -170 to -160\n",
      "Processing lat: 85 to 75, lon: -160 to -150\n",
      "Processing lat: 85 to 75, lon: -150 to -140\n",
      "Processing lat: 85 to 75, lon: -140 to -130\n"
     ]
    },
    {
     "ename": "KeyboardInterrupt",
     "evalue": "",
     "output_type": "error",
     "traceback": [
      "\u001b[0;31m---------------------------------------------------------------------------\u001b[0m",
      "\u001b[0;31mKeyboardInterrupt\u001b[0m                         Traceback (most recent call last)",
      "Cell \u001b[0;32mIn[7], line 2\u001b[0m\n\u001b[1;32m      1\u001b[0m \u001b[38;5;66;03m# Load dataset and process\u001b[39;00m\n\u001b[0;32m----> 2\u001b[0m \u001b[43mload_male_dataset_into_db\u001b[49m\u001b[43m(\u001b[49m\u001b[43m)\u001b[49m\n",
      "Cell \u001b[0;32mIn[6], line 53\u001b[0m, in \u001b[0;36mload_male_dataset_into_db\u001b[0;34m()\u001b[0m\n\u001b[1;32m     50\u001b[0m data_slice_male \u001b[38;5;241m=\u001b[39m load_dataset(file_path_male, lat_slice, lon_slice)\n\u001b[1;32m     51\u001b[0m data_slice_male_quadkey \u001b[38;5;241m=\u001b[39m extract_data_points_vectorized_quadkey(data_slice_male)\n\u001b[0;32m---> 53\u001b[0m \u001b[43minsert_into_db\u001b[49m\u001b[43m(\u001b[49m\u001b[43mdata_slice_male_quadkey\u001b[49m\u001b[43m)\u001b[49m\n",
      "Cell \u001b[0;32mIn[6], line 3\u001b[0m, in \u001b[0;36minsert_into_db\u001b[0;34m(df)\u001b[0m\n\u001b[1;32m      2\u001b[0m \u001b[38;5;28;01mdef\u001b[39;00m\u001b[38;5;250m \u001b[39m\u001b[38;5;21minsert_into_db\u001b[39m(df):\n\u001b[0;32m----> 3\u001b[0m     \u001b[43mdf\u001b[49m\u001b[38;5;241;43m.\u001b[39;49m\u001b[43mto_sql\u001b[49m\u001b[43m(\u001b[49m\u001b[38;5;124;43m\"\u001b[39;49m\u001b[38;5;124;43mdata_slice_male_long_lat\u001b[39;49m\u001b[38;5;124;43m\"\u001b[39;49m\u001b[43m,\u001b[49m\u001b[43m \u001b[49m\u001b[43mcon\u001b[49m\u001b[43m,\u001b[49m\u001b[43m \u001b[49m\u001b[43mif_exists\u001b[49m\u001b[38;5;241;43m=\u001b[39;49m\u001b[38;5;124;43m\"\u001b[39;49m\u001b[38;5;124;43mappend\u001b[39;49m\u001b[38;5;124;43m\"\u001b[39;49m\u001b[43m,\u001b[49m\u001b[43m \u001b[49m\u001b[43mindex\u001b[49m\u001b[38;5;241;43m=\u001b[39;49m\u001b[38;5;28;43;01mFalse\u001b[39;49;00m\u001b[43m)\u001b[49m\n",
      "File \u001b[0;32m~/repos/rtviz/rtviz_viz2_pop/src/backend/notebooks/.venv_nb/lib/python3.10/site-packages/pandas/util/_decorators.py:333\u001b[0m, in \u001b[0;36mdeprecate_nonkeyword_arguments.<locals>.decorate.<locals>.wrapper\u001b[0;34m(*args, **kwargs)\u001b[0m\n\u001b[1;32m    327\u001b[0m \u001b[38;5;28;01mif\u001b[39;00m \u001b[38;5;28mlen\u001b[39m(args) \u001b[38;5;241m>\u001b[39m num_allow_args:\n\u001b[1;32m    328\u001b[0m     warnings\u001b[38;5;241m.\u001b[39mwarn(\n\u001b[1;32m    329\u001b[0m         msg\u001b[38;5;241m.\u001b[39mformat(arguments\u001b[38;5;241m=\u001b[39m_format_argument_list(allow_args)),\n\u001b[1;32m    330\u001b[0m         \u001b[38;5;167;01mFutureWarning\u001b[39;00m,\n\u001b[1;32m    331\u001b[0m         stacklevel\u001b[38;5;241m=\u001b[39mfind_stack_level(),\n\u001b[1;32m    332\u001b[0m     )\n\u001b[0;32m--> 333\u001b[0m \u001b[38;5;28;01mreturn\u001b[39;00m \u001b[43mfunc\u001b[49m\u001b[43m(\u001b[49m\u001b[38;5;241;43m*\u001b[39;49m\u001b[43margs\u001b[49m\u001b[43m,\u001b[49m\u001b[43m \u001b[49m\u001b[38;5;241;43m*\u001b[39;49m\u001b[38;5;241;43m*\u001b[39;49m\u001b[43mkwargs\u001b[49m\u001b[43m)\u001b[49m\n",
      "File \u001b[0;32m~/repos/rtviz/rtviz_viz2_pop/src/backend/notebooks/.venv_nb/lib/python3.10/site-packages/pandas/core/generic.py:3087\u001b[0m, in \u001b[0;36mNDFrame.to_sql\u001b[0;34m(self, name, con, schema, if_exists, index, index_label, chunksize, dtype, method)\u001b[0m\n\u001b[1;32m   2889\u001b[0m \u001b[38;5;250m\u001b[39m\u001b[38;5;124;03m\"\"\"\u001b[39;00m\n\u001b[1;32m   2890\u001b[0m \u001b[38;5;124;03mWrite records stored in a DataFrame to a SQL database.\u001b[39;00m\n\u001b[1;32m   2891\u001b[0m \n\u001b[0;32m   (...)\u001b[0m\n\u001b[1;32m   3083\u001b[0m \u001b[38;5;124;03m[(1,), (None,), (2,)]\u001b[39;00m\n\u001b[1;32m   3084\u001b[0m \u001b[38;5;124;03m\"\"\"\u001b[39;00m  \u001b[38;5;66;03m# noqa: E501\u001b[39;00m\n\u001b[1;32m   3085\u001b[0m \u001b[38;5;28;01mfrom\u001b[39;00m\u001b[38;5;250m \u001b[39m\u001b[38;5;21;01mpandas\u001b[39;00m\u001b[38;5;21;01m.\u001b[39;00m\u001b[38;5;21;01mio\u001b[39;00m\u001b[38;5;250m \u001b[39m\u001b[38;5;28;01mimport\u001b[39;00m sql\n\u001b[0;32m-> 3087\u001b[0m \u001b[38;5;28;01mreturn\u001b[39;00m \u001b[43msql\u001b[49m\u001b[38;5;241;43m.\u001b[39;49m\u001b[43mto_sql\u001b[49m\u001b[43m(\u001b[49m\n\u001b[1;32m   3088\u001b[0m \u001b[43m    \u001b[49m\u001b[38;5;28;43mself\u001b[39;49m\u001b[43m,\u001b[49m\n\u001b[1;32m   3089\u001b[0m \u001b[43m    \u001b[49m\u001b[43mname\u001b[49m\u001b[43m,\u001b[49m\n\u001b[1;32m   3090\u001b[0m \u001b[43m    \u001b[49m\u001b[43mcon\u001b[49m\u001b[43m,\u001b[49m\n\u001b[1;32m   3091\u001b[0m \u001b[43m    \u001b[49m\u001b[43mschema\u001b[49m\u001b[38;5;241;43m=\u001b[39;49m\u001b[43mschema\u001b[49m\u001b[43m,\u001b[49m\n\u001b[1;32m   3092\u001b[0m \u001b[43m    \u001b[49m\u001b[43mif_exists\u001b[49m\u001b[38;5;241;43m=\u001b[39;49m\u001b[43mif_exists\u001b[49m\u001b[43m,\u001b[49m\n\u001b[1;32m   3093\u001b[0m \u001b[43m    \u001b[49m\u001b[43mindex\u001b[49m\u001b[38;5;241;43m=\u001b[39;49m\u001b[43mindex\u001b[49m\u001b[43m,\u001b[49m\n\u001b[1;32m   3094\u001b[0m \u001b[43m    \u001b[49m\u001b[43mindex_label\u001b[49m\u001b[38;5;241;43m=\u001b[39;49m\u001b[43mindex_label\u001b[49m\u001b[43m,\u001b[49m\n\u001b[1;32m   3095\u001b[0m \u001b[43m    \u001b[49m\u001b[43mchunksize\u001b[49m\u001b[38;5;241;43m=\u001b[39;49m\u001b[43mchunksize\u001b[49m\u001b[43m,\u001b[49m\n\u001b[1;32m   3096\u001b[0m \u001b[43m    \u001b[49m\u001b[43mdtype\u001b[49m\u001b[38;5;241;43m=\u001b[39;49m\u001b[43mdtype\u001b[49m\u001b[43m,\u001b[49m\n\u001b[1;32m   3097\u001b[0m \u001b[43m    \u001b[49m\u001b[43mmethod\u001b[49m\u001b[38;5;241;43m=\u001b[39;49m\u001b[43mmethod\u001b[49m\u001b[43m,\u001b[49m\n\u001b[1;32m   3098\u001b[0m \u001b[43m\u001b[49m\u001b[43m)\u001b[49m\n",
      "File \u001b[0;32m~/repos/rtviz/rtviz_viz2_pop/src/backend/notebooks/.venv_nb/lib/python3.10/site-packages/pandas/io/sql.py:842\u001b[0m, in \u001b[0;36mto_sql\u001b[0;34m(frame, name, con, schema, if_exists, index, index_label, chunksize, dtype, method, engine, **engine_kwargs)\u001b[0m\n\u001b[1;32m    837\u001b[0m     \u001b[38;5;28;01mraise\u001b[39;00m \u001b[38;5;167;01mNotImplementedError\u001b[39;00m(\n\u001b[1;32m    838\u001b[0m         \u001b[38;5;124m\"\u001b[39m\u001b[38;5;124m'\u001b[39m\u001b[38;5;124mframe\u001b[39m\u001b[38;5;124m'\u001b[39m\u001b[38;5;124m argument should be either a Series or a DataFrame\u001b[39m\u001b[38;5;124m\"\u001b[39m\n\u001b[1;32m    839\u001b[0m     )\n\u001b[1;32m    841\u001b[0m \u001b[38;5;28;01mwith\u001b[39;00m pandasSQL_builder(con, schema\u001b[38;5;241m=\u001b[39mschema, need_transaction\u001b[38;5;241m=\u001b[39m\u001b[38;5;28;01mTrue\u001b[39;00m) \u001b[38;5;28;01mas\u001b[39;00m pandas_sql:\n\u001b[0;32m--> 842\u001b[0m     \u001b[38;5;28;01mreturn\u001b[39;00m \u001b[43mpandas_sql\u001b[49m\u001b[38;5;241;43m.\u001b[39;49m\u001b[43mto_sql\u001b[49m\u001b[43m(\u001b[49m\n\u001b[1;32m    843\u001b[0m \u001b[43m        \u001b[49m\u001b[43mframe\u001b[49m\u001b[43m,\u001b[49m\n\u001b[1;32m    844\u001b[0m \u001b[43m        \u001b[49m\u001b[43mname\u001b[49m\u001b[43m,\u001b[49m\n\u001b[1;32m    845\u001b[0m \u001b[43m        \u001b[49m\u001b[43mif_exists\u001b[49m\u001b[38;5;241;43m=\u001b[39;49m\u001b[43mif_exists\u001b[49m\u001b[43m,\u001b[49m\n\u001b[1;32m    846\u001b[0m \u001b[43m        \u001b[49m\u001b[43mindex\u001b[49m\u001b[38;5;241;43m=\u001b[39;49m\u001b[43mindex\u001b[49m\u001b[43m,\u001b[49m\n\u001b[1;32m    847\u001b[0m \u001b[43m        \u001b[49m\u001b[43mindex_label\u001b[49m\u001b[38;5;241;43m=\u001b[39;49m\u001b[43mindex_label\u001b[49m\u001b[43m,\u001b[49m\n\u001b[1;32m    848\u001b[0m \u001b[43m        \u001b[49m\u001b[43mschema\u001b[49m\u001b[38;5;241;43m=\u001b[39;49m\u001b[43mschema\u001b[49m\u001b[43m,\u001b[49m\n\u001b[1;32m    849\u001b[0m \u001b[43m        \u001b[49m\u001b[43mchunksize\u001b[49m\u001b[38;5;241;43m=\u001b[39;49m\u001b[43mchunksize\u001b[49m\u001b[43m,\u001b[49m\n\u001b[1;32m    850\u001b[0m \u001b[43m        \u001b[49m\u001b[43mdtype\u001b[49m\u001b[38;5;241;43m=\u001b[39;49m\u001b[43mdtype\u001b[49m\u001b[43m,\u001b[49m\n\u001b[1;32m    851\u001b[0m \u001b[43m        \u001b[49m\u001b[43mmethod\u001b[49m\u001b[38;5;241;43m=\u001b[39;49m\u001b[43mmethod\u001b[49m\u001b[43m,\u001b[49m\n\u001b[1;32m    852\u001b[0m \u001b[43m        \u001b[49m\u001b[43mengine\u001b[49m\u001b[38;5;241;43m=\u001b[39;49m\u001b[43mengine\u001b[49m\u001b[43m,\u001b[49m\n\u001b[1;32m    853\u001b[0m \u001b[43m        \u001b[49m\u001b[38;5;241;43m*\u001b[39;49m\u001b[38;5;241;43m*\u001b[39;49m\u001b[43mengine_kwargs\u001b[49m\u001b[43m,\u001b[49m\n\u001b[1;32m    854\u001b[0m \u001b[43m    \u001b[49m\u001b[43m)\u001b[49m\n",
      "File \u001b[0;32m~/repos/rtviz/rtviz_viz2_pop/src/backend/notebooks/.venv_nb/lib/python3.10/site-packages/pandas/io/sql.py:2851\u001b[0m, in \u001b[0;36mSQLiteDatabase.to_sql\u001b[0;34m(self, frame, name, if_exists, index, index_label, schema, chunksize, dtype, method, engine, **engine_kwargs)\u001b[0m\n\u001b[1;32m   2841\u001b[0m table \u001b[38;5;241m=\u001b[39m SQLiteTable(\n\u001b[1;32m   2842\u001b[0m     name,\n\u001b[1;32m   2843\u001b[0m     \u001b[38;5;28mself\u001b[39m,\n\u001b[0;32m   (...)\u001b[0m\n\u001b[1;32m   2848\u001b[0m     dtype\u001b[38;5;241m=\u001b[39mdtype,\n\u001b[1;32m   2849\u001b[0m )\n\u001b[1;32m   2850\u001b[0m table\u001b[38;5;241m.\u001b[39mcreate()\n\u001b[0;32m-> 2851\u001b[0m \u001b[38;5;28;01mreturn\u001b[39;00m \u001b[43mtable\u001b[49m\u001b[38;5;241;43m.\u001b[39;49m\u001b[43minsert\u001b[49m\u001b[43m(\u001b[49m\u001b[43mchunksize\u001b[49m\u001b[43m,\u001b[49m\u001b[43m \u001b[49m\u001b[43mmethod\u001b[49m\u001b[43m)\u001b[49m\n",
      "File \u001b[0;32m~/repos/rtviz/rtviz_viz2_pop/src/backend/notebooks/.venv_nb/lib/python3.10/site-packages/pandas/io/sql.py:1119\u001b[0m, in \u001b[0;36mSQLTable.insert\u001b[0;34m(self, chunksize, method)\u001b[0m\n\u001b[1;32m   1116\u001b[0m     \u001b[38;5;28;01mbreak\u001b[39;00m\n\u001b[1;32m   1118\u001b[0m chunk_iter \u001b[38;5;241m=\u001b[39m \u001b[38;5;28mzip\u001b[39m(\u001b[38;5;241m*\u001b[39m(arr[start_i:end_i] \u001b[38;5;28;01mfor\u001b[39;00m arr \u001b[38;5;129;01min\u001b[39;00m data_list))\n\u001b[0;32m-> 1119\u001b[0m num_inserted \u001b[38;5;241m=\u001b[39m \u001b[43mexec_insert\u001b[49m\u001b[43m(\u001b[49m\u001b[43mconn\u001b[49m\u001b[43m,\u001b[49m\u001b[43m \u001b[49m\u001b[43mkeys\u001b[49m\u001b[43m,\u001b[49m\u001b[43m \u001b[49m\u001b[43mchunk_iter\u001b[49m\u001b[43m)\u001b[49m\n\u001b[1;32m   1120\u001b[0m \u001b[38;5;66;03m# GH 46891\u001b[39;00m\n\u001b[1;32m   1121\u001b[0m \u001b[38;5;28;01mif\u001b[39;00m num_inserted \u001b[38;5;129;01mis\u001b[39;00m \u001b[38;5;129;01mnot\u001b[39;00m \u001b[38;5;28;01mNone\u001b[39;00m:\n",
      "File \u001b[0;32m~/repos/rtviz/rtviz_viz2_pop/src/backend/notebooks/.venv_nb/lib/python3.10/site-packages/pandas/io/sql.py:2547\u001b[0m, in \u001b[0;36mSQLiteTable._execute_insert\u001b[0;34m(self, conn, keys, data_iter)\u001b[0m\n\u001b[1;32m   2545\u001b[0m \u001b[38;5;28;01mdef\u001b[39;00m\u001b[38;5;250m \u001b[39m\u001b[38;5;21m_execute_insert\u001b[39m(\u001b[38;5;28mself\u001b[39m, conn, keys, data_iter) \u001b[38;5;241m-\u001b[39m\u001b[38;5;241m>\u001b[39m \u001b[38;5;28mint\u001b[39m:\n\u001b[1;32m   2546\u001b[0m     data_list \u001b[38;5;241m=\u001b[39m \u001b[38;5;28mlist\u001b[39m(data_iter)\n\u001b[0;32m-> 2547\u001b[0m     \u001b[43mconn\u001b[49m\u001b[38;5;241;43m.\u001b[39;49m\u001b[43mexecutemany\u001b[49m\u001b[43m(\u001b[49m\u001b[38;5;28;43mself\u001b[39;49m\u001b[38;5;241;43m.\u001b[39;49m\u001b[43minsert_statement\u001b[49m\u001b[43m(\u001b[49m\u001b[43mnum_rows\u001b[49m\u001b[38;5;241;43m=\u001b[39;49m\u001b[38;5;241;43m1\u001b[39;49m\u001b[43m)\u001b[49m\u001b[43m,\u001b[49m\u001b[43m \u001b[49m\u001b[43mdata_list\u001b[49m\u001b[43m)\u001b[49m\n\u001b[1;32m   2548\u001b[0m     \u001b[38;5;28;01mreturn\u001b[39;00m conn\u001b[38;5;241m.\u001b[39mrowcount\n",
      "\u001b[0;31mKeyboardInterrupt\u001b[0m: "
     ]
    }
   ],
   "source": [
    "# Load dataset and process\n",
    "load_male_dataset_into_db()"
   ]
  },
  {
   "cell_type": "code",
   "execution_count": 25,
   "metadata": {},
   "outputs": [
    {
     "name": "stdout",
     "output_type": "stream",
     "text": [
      "Processing aggregation for level 14\n",
      "Processing aggregation for level 13\n",
      "Processing aggregation for level 12\n",
      "Processing aggregation for level 11\n",
      "Processing aggregation for level 10\n",
      "Processing aggregation for level 9\n",
      "Processing aggregation for level 8\n",
      "Processing aggregation for level 7\n",
      "Processing aggregation for level 6\n",
      "Processing aggregation for level 5\n",
      "Processing aggregation for level 4\n",
      "Processing aggregation for level 3\n",
      "Processing aggregation for level 2\n",
      "Processing aggregation for level 1\n"
     ]
    }
   ],
   "source": [
    "load_all_aggregation_data_into_db()"
   ]
  },
  {
   "cell_type": "code",
   "execution_count": 26,
   "metadata": {},
   "outputs": [
    {
     "name": "stdout",
     "output_type": "stream",
     "text": [
      "[('', 19.909773238192386, 1.4976120759006002, 1.4033687400338846, 1.3725948832118644, 1.3889594952126063, 1.4060441330260334, 1.4398136248850335, 1.4221152892339834, 1.4223942096744078, 1.4183462869370844, 1.4428119962589385, 1.3019472849384814, 1.1449973278135799, 0.9793599149409513, 2.268926760074832, 125.98554922475437, 76188.81148532103, 2.4565489590168, 5.074257376392204, 1.4580948350957894, 22402.02675150335, 1.883437621372717, 1981.3563453543456, 4.049764083246145, -141.13413145659882, -141.2408991505089, 1973.5382352620975, 1981.3879183498307, 2.1561194424643926, 1977.3493991971875), ('', 28.78157995491516, 2.4416175534814113, 2.4782538484365464, 2.561632009672352, 2.502475673318009, 2.5341882717817623, 2.3344411315544833, 2.137768222811399, 2.0937639104196233, 1.9658845409098036, 1.7601792906110159, 1.485289777762138, 1.2854791926526608, 1.0658047657346597, 2.134635596860398, 14.514344466055535, 188527.538195876, 2.4622520059347153, 6.673459164747722, 0.9036349800374456, 19598.376615062356, 1.6984111572857254, 2004.4700643125875, 2.5783828022303403, -25.705433163929868, -25.86199702874378, 1996.8646578982534, 2004.8481052146283, 1.1797356749022447, 2004.2710678464593), ('', 21.943036705717432, 1.7528918079064923, 1.7579135684133416, 1.9108806374338076, 1.9682429160707597, 1.9122073788720593, 1.7783498677806115, 1.6459022625728108, 1.5430369231893122, 1.4854590756602666, 1.4143916167030919, 1.239119252493757, 1.003943247621786, 0.8003872418122983, 1.7150749418368312, 30.881987546697076, 3273.650171562184, 2.9485463351011276, 5.579042818453113, 1.3184206478223301, 31298.711318418384, 1.7810322110872043, 1752.247513964343, 2.50599287615882, -1282.091288420889, -1282.5010106431114, 1744.7991761094258, 1751.872513964343, 1.5743304358588326, 1753.6079990420649), ('', 82.74954367165817, 9.142774554703005, 10.345135283496763, 11.91042161917917, 10.00448342942257, 6.358140234394578, 4.986954295763795, 4.48150570768754, 4.278317219268633, 4.5325669396866015, 3.691946180047636, 2.7259544084341316, 2.1274759980973816, 2.0585222868761206, 6.033930822113074, 25.699815350141385, 10074.136077616675, 2.9353498220443726, 7.560497641059773, 1.0589421993495165, 30857.12103651464, 1.0717513774648124, 1531.1235008404087, 3.0747106403970914, -2382.1545133742775, -2382.443269904136, 1524.0673566073056, 1531.1334235758939, 2.1002317122471186, 1531.9081987527663)]\n"
     ]
    }
   ],
   "source": [
    "# Select rows with empty quadkeys\n",
    "result = con.execute(\"SELECT * FROM data_slice_male_long_lat where quadkey = '' LIMIT 10;\").fetchall()\n",
    "print(result)\n"
   ]
  },
  {
   "cell_type": "code",
   "execution_count": 27,
   "metadata": {},
   "outputs": [
    {
     "name": "stdout",
     "output_type": "stream",
     "text": [
      "[]\n"
     ]
    }
   ],
   "source": [
    "# Delete rows with empty quadkeys\n",
    "result = con.execute(\"Delete FROM data_slice_male_long_lat WHERE quadkey = '';\").fetchall()\n",
    "print(result)"
   ]
  },
  {
   "cell_type": "code",
   "execution_count": 28,
   "metadata": {},
   "outputs": [
    {
     "name": "stdout",
     "output_type": "stream",
     "text": [
      "[]\n"
     ]
    }
   ],
   "source": [
    "# Verify deletion\n",
    "result = con.execute(\"SELECT * FROM data_slice_male_long_lat where quadkey = '' LIMIT 10;\").fetchall()\n",
    "print(result)"
   ]
  },
  {
   "cell_type": "code",
   "execution_count": 29,
   "metadata": {},
   "outputs": [],
   "source": [
    "# Create index for SQLite table\n",
    "con.execute(\"CREATE UNIQUE INDEX IF NOT EXISTS quadkeyIndex ON data_slice_male_long_lat (quadkey);\")\n",
    "con.commit()\n",
    "\n"
   ]
  },
  {
   "cell_type": "code",
   "execution_count": 30,
   "metadata": {},
   "outputs": [],
   "source": [
    "# Close SQLite connection\n",
    "con.close()"
   ]
  },
  {
   "cell_type": "markdown",
   "metadata": {},
   "source": [
    "## For Showing the dataset summary"
   ]
  },
  {
   "cell_type": "code",
   "execution_count": 31,
   "metadata": {},
   "outputs": [],
   "source": [
    "#file_path_male = \"../data/gpw_v4_basic_demographic_characteristics_rev11_mt_2010_dens_2pt5_min.nc\"\n",
    "#dataset = xr.open_dataset(file_path_male)\n",
    "\n",
    "#dataset"
   ]
  }
 ],
 "metadata": {
  "kernelspec": {
   "display_name": "Python 3 (ipykernel)",
   "language": "python",
   "name": "python3"
  },
  "language_info": {
   "codemirror_mode": {
    "name": "ipython",
    "version": 3
   },
   "file_extension": ".py",
   "mimetype": "text/x-python",
   "name": "python",
   "nbconvert_exporter": "python",
   "pygments_lexer": "ipython3",
   "version": "3.10.12"
  }
 },
 "nbformat": 4,
 "nbformat_minor": 4
}
