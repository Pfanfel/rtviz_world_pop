{
 "cells": [
  {
   "cell_type": "code",
   "execution_count": 144,
   "metadata": {},
   "outputs": [
    {
     "name": "stdout",
     "output_type": "stream",
     "text": [
      "The autoreload extension is already loaded. To reload it, use:\n",
      "  %reload_ext autoreload\n"
     ]
    }
   ],
   "source": [
    "%load_ext autoreload\n",
    "%autoreload 2"
   ]
  },
  {
   "cell_type": "code",
   "execution_count": 2,
   "metadata": {},
   "outputs": [],
   "source": [
    "import duckdb\n",
    "import pandas as pd\n",
    "import xarray as xr\n",
    "import numpy as np\n",
    "from pyquadkey2 import quadkey\n",
    "\n",
    "# Import jupysql Jupyter extension to create SQL cells\n",
    "%load_ext sql\n",
    "\n",
    "# configurations on jupysql to directly output data to Pandas and to simplify the output\n",
    "%config SqlMagic.autopandas = True\n",
    "%config SqlMagic.feedback = False\n",
    "%config SqlMagic.displaycon = False"
   ]
  },
  {
   "cell_type": "code",
   "execution_count": null,
   "metadata": {},
   "outputs": [
    {
     "ename": "CatalogException",
     "evalue": "Catalog Error: Table with name data_slice_male_quadkey_2 does not exist!\nDid you mean \"data_slice_male_long_lat\"?\nLINE 1: ...a_slice_male_long_lat AS SELECT * FROM data_slice_male_quadkey_2\n                                                  ^",
     "output_type": "error",
     "traceback": [
      "\u001b[1;31m---------------------------------------------------------------------------\u001b[0m",
      "\u001b[1;31mCatalogException\u001b[0m                          Traceback (most recent call last)",
      "Cell \u001b[1;32mIn[5], line 4\u001b[0m\n\u001b[0;32m      2\u001b[0m con\u001b[38;5;241m.\u001b[39minstall_extension(\u001b[38;5;124m\"\u001b[39m\u001b[38;5;124mspatial\u001b[39m\u001b[38;5;124m\"\u001b[39m)\n\u001b[0;32m      3\u001b[0m con\u001b[38;5;241m.\u001b[39mload_extension(\u001b[38;5;124m\"\u001b[39m\u001b[38;5;124mspatial\u001b[39m\u001b[38;5;124m\"\u001b[39m)\n\u001b[1;32m----> 4\u001b[0m \u001b[43mcon\u001b[49m\u001b[38;5;241;43m.\u001b[39;49m\u001b[43msql\u001b[49m\u001b[43m(\u001b[49m\u001b[38;5;124;43m\"\u001b[39;49m\u001b[38;5;124;43mCREATE TABLE if not exists data_slice_male_long_lat AS SELECT * FROM data_slice_male_quadkey_2\u001b[39;49m\u001b[38;5;124;43m\"\u001b[39;49m\u001b[43m)\u001b[49m\n\u001b[0;32m      5\u001b[0m \u001b[38;5;66;03m# con.sql(\"DESCRIBE data_slice_male_long_lat\")\u001b[39;00m\n",
      "\u001b[1;31mCatalogException\u001b[0m: Catalog Error: Table with name data_slice_male_quadkey_2 does not exist!\nDid you mean \"data_slice_male_long_lat\"?\nLINE 1: ...a_slice_male_long_lat AS SELECT * FROM data_slice_male_quadkey_2\n                                                  ^"
     ]
    }
   ],
   "source": [
    "con = duckdb.connect(\"../data/qudkeyDB.duckdb\") # this should create a DB File\n",
    "con.install_extension(\"spatial\")\n",
    "con.load_extension(\"spatial\")\n"
   ]
  },
  {
   "cell_type": "code",
   "execution_count": null,
   "metadata": {},
   "outputs": [
    {
     "data": {
      "text/plain": [
       "<duckdb.duckdb.DuckDBPyConnection at 0x16485e49b30>"
      ]
     },
     "execution_count": 6,
     "metadata": {},
     "output_type": "execute_result"
    }
   ],
   "source": [
    "# If the table does not already exists, it will be created\n",
    "# feel free to rename columns\n",
    "create_table_query = \"\"\"\n",
    "CREATE TABLE if not exists data_slice_male_long_lat (\n",
    "    quadkey VARCHAR,\n",
    "    raster_1 FLOAT,\n",
    "    raster_2 FLOAT,\n",
    "    raster_3 FLOAT,\n",
    "    raster_4 FLOAT,\n",
    "    raster_5 FLOAT,\n",
    "    raster_6 FLOAT,\n",
    "    raster_7 FLOAT,\n",
    "    raster_8 FLOAT,\n",
    "    raster_9 FLOAT,\n",
    "    raster_10 FLOAT,\n",
    "    raster_11 FLOAT,\n",
    "    raster_12 FLOAT,\n",
    "    raster_13 FLOAT,\n",
    "    raster_14 FLOAT,\n",
    "    raster_15 FLOAT,\n",
    "    raster_16 FLOAT,\n",
    "    raster_17 FLOAT,\n",
    "    raster_18 FLOAT,\n",
    "    raster_19 FLOAT,\n",
    "    raster_20 FLOAT,\n",
    "    raster_21 FLOAT,\n",
    "    raster_22 FLOAT,\n",
    "    raster_23 FLOAT,\n",
    "    raster_24 FLOAT,\n",
    "    raster_25 FLOAT,\n",
    "    raster_26 FLOAT,\n",
    "    raster_27 FLOAT,\n",
    "    raster_28 FLOAT,\n",
    "    raster_29 FLOAT,\n",
    "    raster_30 FLOAT\n",
    ");\n",
    "\"\"\"\n",
    "\n",
    "# Execute the query to create the table\n",
    "con.execute(create_table_query)"
   ]
  },
  {
   "cell_type": "code",
   "execution_count": null,
   "metadata": {},
   "outputs": [],
   "source": [
    "def insertIntoDB(df): # Insert dataframe into data_slice_male_long_lat\n",
    "    con.sql(f\"\"\"\n",
    "        INSERT INTO data_slice_male_long_lat\n",
    "        SELECT * FROM df;\n",
    "    \"\"\")\n"
   ]
  },
  {
   "cell_type": "code",
   "execution_count": 16,
   "metadata": {},
   "outputs": [],
   "source": [
    "# deletes all data!!!!!!\n",
    "\n",
    "#con.sql(\"\"\"\n",
    "#        truncate table data_slice_male_long_lat;\n",
    "#    \"\"\")"
   ]
  },
  {
   "cell_type": "code",
   "execution_count": null,
   "metadata": {},
   "outputs": [],
   "source": [
    "# loads the .nc file into an xarray \n",
    "\n",
    "def load_dataset(file_path, lat_slice, lon_slice):\n",
    "    dataset = xr.open_dataset(file_path)\n",
    "    # TODO: Fix out of memory problem by using dask https://tutorial.xarray.dev/intermediate/xarray_and_dask.html\n",
    "    data_slice = dataset.sel(latitude=lat_slice, longitude=lon_slice)\n",
    "    data_slice = data_slice[\n",
    "        \"Basic Demographic Characteristics, v4.10 (2010): Male, Density, 2.5 arc-minutes\"\n",
    "    ]\n",
    "    return data_slice.compute()"
   ]
  },
  {
   "cell_type": "code",
   "execution_count": null,
   "metadata": {},
   "outputs": [],
   "source": [
    "import pandas as pd\n",
    "import numpy as np\n",
    "\n",
    "# extraction of the data points from the xarray with their respective quadkeys\n",
    "\n",
    "def extract_data_points_vectorized_quadkey(ds):\n",
    "    data_points = []\n",
    "    longs = ds.longitude.values\n",
    "    lats = ds.latitude.values\n",
    "\n",
    "    zoom_level = 14  # Adjust as needed for desired precision\n",
    "\n",
    "    for x in range(len(lats)):  # Iterate over latitude indices\n",
    "        for y in range(len(longs)):  # Iterate over longitude indices\n",
    "            # Convert latitude and longitude to quadkey\n",
    "            coord = (lats[x], longs[y])\n",
    "            tile = quadkey.from_geo(coord, zoom_level)\n",
    "            quadkey_str = tile.key\n",
    "            \n",
    "            # Extract raster values\n",
    "            raster_values = ds.values[:, x, y]\n",
    "            \n",
    "            # Append a row with quadkey and raster values\n",
    "            data_points.append([quadkey_str] + list(raster_values))\n",
    "\n",
    "    # Create a DataFrame from the data points\n",
    "    columns = ['quadkey'] + [f'raster_{i + 1}' for i in range(ds.shape[0])]\n",
    "    df = pd.DataFrame(data_points, columns=columns)\n",
    "\n",
    "    return df\n"
   ]
  },
  {
   "cell_type": "code",
   "execution_count": null,
   "metadata": {},
   "outputs": [],
   "source": [
    "# function for loading chunks of 10°*10° into the DB\n",
    "def load_male_datasetIntoDB():\n",
    "    file_path_male = \"../data/gpw_v4_basic_demographic_characteristics_rev11_mt_2010_dens_2pt5_min.nc\"\n",
    "\n",
    "    # Initialize an empty DataFrame to store results\n",
    "    # combined_df = pd.DataFrame()\n",
    "\n",
    "    # Process the dataset in 10-degree latitude chunks\n",
    "    # for lat_start in range(85, -90, -10):  # Iterate from 90 to -90 in steps of -10\n",
    "    for lat_start in range(85, -85, -10):  # Iterate from 90 to -90 in steps of -10\n",
    "        lat_end = lat_start - 10\n",
    "        lat_slice = slice(lat_start, lat_end)\n",
    "\n",
    "        # for lon_start in range(-180, 180, 10):  # Iterate from 90 to -90 in steps of -10\n",
    "        for lon_start in range(-180, 180, 10):  # Iterate from 90 to -90 in steps of -10\n",
    "            lon_end = lon_start + 10\n",
    "            lon_slice = slice(lon_start, lon_end)\n",
    "            print(\"lat: \" + str(lat_start) + \" long: \" + str(lon_start))\n",
    "            print(\"lat: \" + str(lat_end) + \" long: \" + str(lon_end))\n",
    "\n",
    "            # Load and process the chunk\n",
    "            data_slice_male = load_dataset(file_path_male, lat_slice, lon_slice)\n",
    "            data_slice_male_quadkey = extract_data_points_vectorized_quadkey(data_slice_male)\n",
    "\n",
    "            insertIntoDB(data_slice_male_quadkey)"
   ]
  },
  {
   "cell_type": "code",
   "execution_count": null,
   "metadata": {},
   "outputs": [],
   "source": [
    "# n = zoomlevel must be parentlevel of the highest zoomlevel currently in the DB\n",
    "def insertParentsForLevel(n, tableName):\n",
    "    for group in range(0, 4): # run in chunks of 4, otherwise i ran out of memory; each group is defined by the first character of the quadkey (0-3)\n",
    "        query = f\"\"\"\n",
    "        INSERT INTO {tableName}\n",
    "        SELECT\n",
    "        SUBSTRING(quadkey, 1, {n} - 1) AS parent_quadkey,\n",
    "        AVG(raster_1) * (COUNT(*) / 4) AS raster_1,\n",
    "        AVG(raster_2) * (COUNT(*) / 4) AS raster_2,\n",
    "        AVG(raster_3) * (COUNT(*) / 4) AS raster_3,\n",
    "        AVG(raster_4) * (COUNT(*) / 4) AS raster_4,\n",
    "        AVG(raster_5) * (COUNT(*) / 4) AS raster_5,\n",
    "        AVG(raster_6) * (COUNT(*) / 4) AS raster_6,\n",
    "        AVG(raster_7) * (COUNT(*) / 4) AS raster_7,\n",
    "        AVG(raster_8) * (COUNT(*) / 4) AS raster_8,\n",
    "        AVG(raster_9) * (COUNT(*) / 4) AS raster_9,\n",
    "        AVG(raster_10) * (COUNT(*) / 4) AS raster_10,\n",
    "        AVG(raster_11) * (COUNT(*) / 4) AS raster_11,\n",
    "        AVG(raster_12) * (COUNT(*) / 4) AS raster_12,\n",
    "        AVG(raster_13) * (COUNT(*) / 4) AS raster_13,\n",
    "        AVG(raster_14) * (COUNT(*) / 4) AS raster_14,\n",
    "        AVG(raster_15) * (COUNT(*) / 4) AS raster_15,\n",
    "        AVG(raster_16) * (COUNT(*) / 4) AS raster_16,\n",
    "        AVG(raster_17) * (COUNT(*) / 4) AS raster_17,\n",
    "        AVG(raster_18) * (COUNT(*) / 4) AS raster_18,\n",
    "        AVG(raster_19) * (COUNT(*) / 4) AS raster_19,\n",
    "        AVG(raster_20) * (COUNT(*) / 4) AS raster_20,\n",
    "        AVG(raster_21) * (COUNT(*) / 4) AS raster_21,\n",
    "        AVG(raster_22) * (COUNT(*) / 4) AS raster_22,\n",
    "        AVG(raster_23) * (COUNT(*) / 4) AS raster_23,\n",
    "        AVG(raster_24) * (COUNT(*) / 4) AS raster_24,\n",
    "        AVG(raster_25) * (COUNT(*) / 4) AS raster_25,\n",
    "        AVG(raster_26) * (COUNT(*) / 4) AS raster_26,\n",
    "        AVG(raster_27) * (COUNT(*) / 4) AS raster_27,\n",
    "        AVG(raster_28) * (COUNT(*) / 4) AS raster_28,\n",
    "        AVG(raster_29) * (COUNT(*) / 4) AS raster_29,\n",
    "        AVG(raster_30) * (COUNT(*) / 4) AS raster_30\n",
    "        FROM {tableName}\n",
    "        WHERE LENGTH(quadkey) > 1  -- Exclude keys that are already parents\n",
    "        and SUBSTRING(quadkey,1,1) = '{group}'\n",
    "        GROUP BY parent_quadkey\n",
    "        \"\"\"\n",
    "        # Execute the query\n",
    "        con.execute(query).fetchall()"
   ]
  },
  {
   "cell_type": "code",
   "execution_count": null,
   "metadata": {},
   "outputs": [],
   "source": [
    "# for each level all parents are insertet into the db; start with 14 when the xarray has been freshly loaded\n",
    "# dont run if the db is alreay filled\n",
    "def loadAllAggregationDataIntoDB():\n",
    "    n = 14\n",
    "    for n in range(n, 0, -1):\n",
    "        print(\"level: \" + str(n))\n",
    "        insertParentsForLevel(n, \"data_slice_male_long_lat\")\n"
   ]
  },
  {
   "cell_type": "code",
   "execution_count": null,
   "metadata": {},
   "outputs": [],
   "source": [
    "# delete higher levels if you fucked up\n",
    "# con.sql(\"\"\"\n",
    "#         delete  FROM data_slice_male_long_lat\n",
    "#         where LENGTH(quadkey) < 13\n",
    "#     \"\"\")"
   ]
  },
  {
   "cell_type": "code",
   "execution_count": null,
   "metadata": {},
   "outputs": [],
   "source": [
    "# Loads the complete male Dataset at level 14 into the DB\n",
    "# only run if the DB has no data inside\n",
    "\n",
    "load_male_datasetIntoDB() # loads level 14 from source; took 10min for me\n",
    "loadAllAggregationDataIntoDB() # loads aggregation for all levels; took 5min for me\n",
    "\n"
   ]
  },
  {
   "cell_type": "code",
   "execution_count": null,
   "metadata": {},
   "outputs": [
    {
     "data": {
      "text/plain": [
       "┌────────────────┬──────────┬──────────┬──────────┬──────────┬──────────┬──────────┬──────────┬──────────┬──────────┬───────────┬───────────┬───────────┬───────────┬───────────┬───────────┬───────────┬───────────┬───────────┬───────────┬───────────┬───────────┬───────────┬───────────┬───────────┬───────────┬───────────┬───────────┬───────────┬───────────┬───────────┐\n",
       "│    quadkey     │ raster_1 │ raster_2 │ raster_3 │ raster_4 │ raster_5 │ raster_6 │ raster_7 │ raster_8 │ raster_9 │ raster_10 │ raster_11 │ raster_12 │ raster_13 │ raster_14 │ raster_15 │ raster_16 │ raster_17 │ raster_18 │ raster_19 │ raster_20 │ raster_21 │ raster_22 │ raster_23 │ raster_24 │ raster_25 │ raster_26 │ raster_27 │ raster_28 │ raster_29 │ raster_30 │\n",
       "│    varchar     │  float   │  float   │  float   │  float   │  float   │  float   │  float   │  float   │  float   │   float   │   float   │   float   │   float   │   float   │   float   │   float   │   float   │   float   │   float   │   float   │   float   │   float   │   float   │   float   │   float   │   float   │   float   │   float   │   float   │   float   │\n",
       "├────────────────┼──────────┼──────────┼──────────┼──────────┼──────────┼──────────┼──────────┼──────────┼──────────┼───────────┼───────────┼───────────┼───────────┼───────────┼───────────┼───────────┼───────────┼───────────┼───────────┼───────────┼───────────┼───────────┼───────────┼───────────┼───────────┼───────────┼───────────┼───────────┼───────────┼───────────┤\n",
       "│ 00000000200202 │     NULL │     NULL │     NULL │     NULL │     NULL │     NULL │     NULL │     NULL │     NULL │      NULL │      NULL │      NULL │      NULL │      NULL │      NULL │      NULL │      NULL │       3.0 │      NULL │      NULL │   32767.0 │      NULL │      NULL │      NULL │      NULL │      NULL │      NULL │      NULL │      NULL │      NULL │\n",
       "│ 00000000200212 │     NULL │     NULL │     NULL │     NULL │     NULL │     NULL │     NULL │     NULL │     NULL │      NULL │      NULL │      NULL │      NULL │      NULL │      NULL │      NULL │      NULL │       3.0 │      NULL │      NULL │   32767.0 │      NULL │      NULL │      NULL │      NULL │      NULL │      NULL │      NULL │      NULL │      NULL │\n",
       "│ 00000000200302 │     NULL │     NULL │     NULL │     NULL │     NULL │     NULL │     NULL │     NULL │     NULL │      NULL │      NULL │      NULL │      NULL │      NULL │      NULL │      NULL │      NULL │       3.0 │      NULL │      NULL │   32767.0 │      NULL │      NULL │      NULL │      NULL │      NULL │      NULL │      NULL │      NULL │      NULL │\n",
       "│ 00000000200312 │     NULL │     NULL │     NULL │     NULL │     NULL │     NULL │     NULL │     NULL │     NULL │      NULL │      NULL │      NULL │      NULL │      NULL │      NULL │      NULL │      NULL │       3.0 │      NULL │      NULL │   32767.0 │      NULL │      NULL │      NULL │      NULL │      NULL │      NULL │      NULL │      NULL │      NULL │\n",
       "│ 00000000201202 │     NULL │     NULL │     NULL │     NULL │     NULL │     NULL │     NULL │     NULL │     NULL │      NULL │      NULL │      NULL │      NULL │      NULL │      NULL │      NULL │      NULL │       3.0 │      NULL │      NULL │   32767.0 │      NULL │      NULL │      NULL │      NULL │      NULL │      NULL │      NULL │      NULL │      NULL │\n",
       "│ 00000000201212 │     NULL │     NULL │     NULL │     NULL │     NULL │     NULL │     NULL │     NULL │     NULL │      NULL │      NULL │      NULL │      NULL │      NULL │      NULL │      NULL │      NULL │       3.0 │      NULL │      NULL │   32767.0 │      NULL │      NULL │      NULL │      NULL │      NULL │      NULL │      NULL │      NULL │      NULL │\n",
       "│ 00000000201302 │     NULL │     NULL │     NULL │     NULL │     NULL │     NULL │     NULL │     NULL │     NULL │      NULL │      NULL │      NULL │      NULL │      NULL │      NULL │      NULL │      NULL │       3.0 │      NULL │      NULL │   32767.0 │      NULL │      NULL │      NULL │      NULL │      NULL │      NULL │      NULL │      NULL │      NULL │\n",
       "│ 00000000201312 │     NULL │     NULL │     NULL │     NULL │     NULL │     NULL │     NULL │     NULL │     NULL │      NULL │      NULL │      NULL │      NULL │      NULL │      NULL │      NULL │      NULL │       3.0 │      NULL │      NULL │   32767.0 │      NULL │      NULL │      NULL │      NULL │      NULL │      NULL │      NULL │      NULL │      NULL │\n",
       "│ 00000000210202 │     NULL │     NULL │     NULL │     NULL │     NULL │     NULL │     NULL │     NULL │     NULL │      NULL │      NULL │      NULL │      NULL │      NULL │      NULL │      NULL │      NULL │       3.0 │      NULL │      NULL │   32767.0 │      NULL │      NULL │      NULL │      NULL │      NULL │      NULL │      NULL │      NULL │      NULL │\n",
       "│ 00000000210212 │     NULL │     NULL │     NULL │     NULL │     NULL │     NULL │     NULL │     NULL │     NULL │      NULL │      NULL │      NULL │      NULL │      NULL │      NULL │      NULL │      NULL │       3.0 │      NULL │      NULL │   32767.0 │      NULL │      NULL │      NULL │      NULL │      NULL │      NULL │      NULL │      NULL │      NULL │\n",
       "│       ·        │       ·  │       ·  │       ·  │       ·  │       ·  │       ·  │       ·  │       ·  │       ·  │        ·  │        ·  │        ·  │        ·  │        ·  │        ·  │        ·  │        ·  │        ·  │        ·  │        ·  │      ·    │        ·  │        ·  │        ·  │        ·  │        ·  │        ·  │        ·  │        ·  │        ·  │\n",
       "│       ·        │       ·  │       ·  │       ·  │       ·  │       ·  │       ·  │       ·  │       ·  │       ·  │        ·  │        ·  │        ·  │        ·  │        ·  │        ·  │        ·  │        ·  │        ·  │        ·  │        ·  │      ·    │        ·  │        ·  │        ·  │        ·  │        ·  │        ·  │        ·  │        ·  │        ·  │\n",
       "│       ·        │       ·  │       ·  │       ·  │       ·  │       ·  │       ·  │       ·  │       ·  │       ·  │        ·  │        ·  │        ·  │        ·  │        ·  │        ·  │        ·  │        ·  │        ·  │        ·  │        ·  │      ·    │        ·  │        ·  │        ·  │        ·  │        ·  │        ·  │        ·  │        ·  │        ·  │\n",
       "│ 00002300211121 │     NULL │     NULL │     NULL │     NULL │     NULL │     NULL │     NULL │     NULL │     NULL │      NULL │      NULL │      NULL │      NULL │      NULL │      NULL │      NULL │      NULL │       3.0 │      NULL │      NULL │   32767.0 │      NULL │      NULL │      NULL │      NULL │      NULL │      NULL │      NULL │      NULL │      NULL │\n",
       "│ 00002300211131 │     NULL │     NULL │     NULL │     NULL │     NULL │     NULL │     NULL │     NULL │     NULL │      NULL │      NULL │      NULL │      NULL │      NULL │      NULL │      NULL │      NULL │       3.0 │      NULL │      NULL │   32767.0 │      NULL │      NULL │      NULL │      NULL │      NULL │      NULL │      NULL │      NULL │      NULL │\n",
       "│ 00002300300021 │     NULL │     NULL │     NULL │     NULL │     NULL │     NULL │     NULL │     NULL │     NULL │      NULL │      NULL │      NULL │      NULL │      NULL │      NULL │      NULL │      NULL │       3.0 │      NULL │      NULL │   32767.0 │      NULL │      NULL │      NULL │      NULL │      NULL │      NULL │      NULL │      NULL │      NULL │\n",
       "│ 00002300300031 │     NULL │     NULL │     NULL │     NULL │     NULL │     NULL │     NULL │     NULL │     NULL │      NULL │      NULL │      NULL │      NULL │      NULL │      NULL │      NULL │      NULL │       3.0 │      NULL │      NULL │   32767.0 │      NULL │      NULL │      NULL │      NULL │      NULL │      NULL │      NULL │      NULL │      NULL │\n",
       "│ 00002300300120 │     NULL │     NULL │     NULL │     NULL │     NULL │     NULL │     NULL │     NULL │     NULL │      NULL │      NULL │      NULL │      NULL │      NULL │      NULL │      NULL │      NULL │       3.0 │      NULL │      NULL │   32767.0 │      NULL │      NULL │      NULL │      NULL │      NULL │      NULL │      NULL │      NULL │      NULL │\n",
       "│ 00002300300130 │     NULL │     NULL │     NULL │     NULL │     NULL │     NULL │     NULL │     NULL │     NULL │      NULL │      NULL │      NULL │      NULL │      NULL │      NULL │      NULL │      NULL │       3.0 │      NULL │      NULL │   32767.0 │      NULL │      NULL │      NULL │      NULL │      NULL │      NULL │      NULL │      NULL │      NULL │\n",
       "│ 00002300301020 │     NULL │     NULL │     NULL │     NULL │     NULL │     NULL │     NULL │     NULL │     NULL │      NULL │      NULL │      NULL │      NULL │      NULL │      NULL │      NULL │      NULL │       3.0 │      NULL │      NULL │   32767.0 │      NULL │      NULL │      NULL │      NULL │      NULL │      NULL │      NULL │      NULL │      NULL │\n",
       "│ 00002300301030 │     NULL │     NULL │     NULL │     NULL │     NULL │     NULL │     NULL │     NULL │     NULL │      NULL │      NULL │      NULL │      NULL │      NULL │      NULL │      NULL │      NULL │       3.0 │      NULL │      NULL │   32767.0 │      NULL │      NULL │      NULL │      NULL │      NULL │      NULL │      NULL │      NULL │      NULL │\n",
       "│ 00002300301120 │     NULL │     NULL │     NULL │     NULL │     NULL │     NULL │     NULL │     NULL │     NULL │      NULL │      NULL │      NULL │      NULL │      NULL │      NULL │      NULL │      NULL │       3.0 │      NULL │      NULL │   32767.0 │      NULL │      NULL │      NULL │      NULL │      NULL │      NULL │      NULL │      NULL │      NULL │\n",
       "│ 00002300301130 │     NULL │     NULL │     NULL │     NULL │     NULL │     NULL │     NULL │     NULL │     NULL │      NULL │      NULL │      NULL │      NULL │      NULL │      NULL │      NULL │      NULL │       3.0 │      NULL │      NULL │   32767.0 │      NULL │      NULL │      NULL │      NULL │      NULL │      NULL │      NULL │      NULL │      NULL │\n",
       "├────────────────┴──────────┴──────────┴──────────┴──────────┴──────────┴──────────┴──────────┴──────────┴──────────┴───────────┴───────────┴───────────┴───────────┴───────────┴───────────┴───────────┴───────────┴───────────┴───────────┴───────────┴───────────┴───────────┴───────────┴───────────┴───────────┴───────────┴───────────┴───────────┴───────────┴───────────┤\n",
       "│ ? rows (>9999 rows, 20 shown)                                                                                                                                                                                                                                                                                                                                      31 columns │\n",
       "└───────────────────────────────────────────────────────────────────────────────────────────────────────────────────────────────────────────────────────────────────────────────────────────────────────────────────────────────────────────────────────────────────────────────────────────────────────────────────────────────────────────────────────────────────────────────┘"
      ]
     },
     "execution_count": 143,
     "metadata": {},
     "output_type": "execute_result"
    }
   ],
   "source": [
    "# validate data\n",
    "con.sql(\"\"\"\n",
    "        SELECT * FROM data_slice_male_long_lat\n",
    "    \"\"\")\n",
    "\n"
   ]
  },
  {
   "cell_type": "code",
   "execution_count": null,
   "metadata": {},
   "outputs": [],
   "source": [
    "# close connection\n",
    "# otherwise the fastapi might not work\n",
    "con.close()"
   ]
  }
 ],
 "metadata": {
  "kernelspec": {
   "display_name": ".venv",
   "language": "python",
   "name": "python3"
  },
  "language_info": {
   "codemirror_mode": {
    "name": "ipython",
    "version": 3
   },
   "file_extension": ".py",
   "mimetype": "text/x-python",
   "name": "python",
   "nbconvert_exporter": "python",
   "pygments_lexer": "ipython3",
   "version": "3.11.0"
  }
 },
 "nbformat": 4,
 "nbformat_minor": 2
}
