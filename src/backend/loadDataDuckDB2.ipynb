{
 "cells": [
  {
   "cell_type": "code",
   "execution_count": 1,
   "metadata": {},
   "outputs": [],
   "source": [
    "%load_ext autoreload\n",
    "%autoreload 2"
   ]
  },
  {
   "cell_type": "code",
   "execution_count": null,
   "metadata": {},
   "outputs": [],
   "source": [
    "import duckdb\n",
    "import pandas as pd\n",
    "import xarray as xr\n",
    "import numpy as np\n",
    "from pyquadkey2 import quadkey\n",
    "\n",
    "# Import jupysql Jupyter extension to create SQL cells\n",
    "%load_ext sql\n",
    "\n",
    "# configurations on jupysql to directly output data to Pandas and to simplify the output\n",
    "%config SqlMagic.autopandas = True\n",
    "%config SqlMagic.feedback = False\n",
    "%config SqlMagic.displaycon = False"
   ]
  },
  {
   "cell_type": "code",
   "execution_count": null,
   "metadata": {},
   "outputs": [],
   "source": [
    "con = duckdb.connect(\"../data/qudkeyDB.duckdb\") # Note: duckdb.sql connects to the default in-memory database connection\n",
    "con.install_extension(\"spatial\")\n",
    "con.load_extension(\"spatial\")\n",
    "con.sql(\"CREATE TABLE if not exists data_slice_male_long_lat AS SELECT * FROM data_slice_male_quadkey_2\")\n",
    "con.sql(\"DESCRIBE data_slice_male_long_lat\")"
   ]
  },
  {
   "cell_type": "code",
   "execution_count": 25,
   "metadata": {},
   "outputs": [],
   "source": [
    "def insertIntoDB(df): # Insert data from data_slice_male_quadkey_2 into data_slice_male_long_lat\n",
    "    con.sql(f\"\"\"\n",
    "        INSERT INTO data_slice_male_long_lat\n",
    "        SELECT * FROM df;\n",
    "    \"\"\")\n"
   ]
  },
  {
   "cell_type": "code",
   "execution_count": 31,
   "metadata": {},
   "outputs": [],
   "source": [
    "con.sql(\"\"\"\n",
    "        truncate table data_slice_male_long_lat;\n",
    "    \"\"\")"
   ]
  },
  {
   "cell_type": "code",
   "execution_count": 3,
   "metadata": {},
   "outputs": [],
   "source": [
    "def load_dataset(file_path, lat_slice, lon_slice):\n",
    "    dataset = xr.open_dataset(file_path, chunks={'latitude': 1000, 'longitude': 1000})\n",
    "    # TODO: Fix out of memory problem by using dask https://tutorial.xarray.dev/intermediate/xarray_and_dask.html\n",
    "    data_slice = dataset.sel(latitude=lat_slice, longitude=lon_slice)\n",
    "    data_slice = data_slice[\n",
    "        \"Basic Demographic Characteristics, v4.10 (2010): Male, Density, 2.5 arc-minutes\"\n",
    "    ]\n",
    "    return data_slice.compute()"
   ]
  },
  {
   "cell_type": "code",
   "execution_count": 26,
   "metadata": {},
   "outputs": [],
   "source": [
    "import pandas as pd\n",
    "import numpy as np\n",
    "\n",
    "def extract_data_points_vectorized_quadkey(ds):\n",
    "    data_points = []\n",
    "    longs = ds.longitude.values\n",
    "    lats = ds.latitude.values\n",
    "\n",
    "    zoom_level = 14  # Adjust as needed for desired precision\n",
    "\n",
    "    for x in range(len(lats)):  # Iterate over latitude indices\n",
    "        for y in range(len(longs)):  # Iterate over longitude indices\n",
    "            # Convert latitude and longitude to quadkey\n",
    "            coord = (lats[x], longs[y])\n",
    "            tile = quadkey.from_geo(coord, zoom_level)\n",
    "            quadkey_str = tile.key\n",
    "            \n",
    "            # Extract raster values\n",
    "            raster_values = ds.values[:, x, y]\n",
    "            \n",
    "            # Append a row with quadkey and raster values\n",
    "            data_points.append([quadkey_str] + list(raster_values))\n",
    "\n",
    "    # Create a DataFrame from the data points\n",
    "    columns = ['quadkey'] + [f'raster_{i + 1}' for i in range(ds.shape[0])]\n",
    "    df = pd.DataFrame(data_points, columns=columns)\n",
    "\n",
    "    return df\n"
   ]
  },
  {
   "cell_type": "code",
   "execution_count": 58,
   "metadata": {},
   "outputs": [],
   "source": [
    "def load_male_dataset():\n",
    "    file_path_male = \"../data/gpw_v4_basic_demographic_characteristics_rev11_mt_2010_dens_2pt5_min.nc\"\n",
    "\n",
    "    # Initialize an empty DataFrame to store results\n",
    "    # combined_df = pd.DataFrame()\n",
    "\n",
    "    # Process the dataset in 10-degree latitude chunks\n",
    "    # for lat_start in range(85, -90, -10):  # Iterate from 90 to -90 in steps of -10\n",
    "    for lat_start in range(85, -85, -10):  # Iterate from 90 to -90 in steps of -10\n",
    "        lat_end = lat_start - 10\n",
    "        lat_slice = slice(lat_start, lat_end)\n",
    "\n",
    "        # for lon_start in range(-180, 180, 10):  # Iterate from 90 to -90 in steps of -10\n",
    "        for lon_start in range(-180, 180, 10):  # Iterate from 90 to -90 in steps of -10\n",
    "            lon_end = lon_start + 10\n",
    "            lon_slice = slice(lon_start, lon_end)\n",
    "            print(\"lat: \" + str(lat_start) + \" long: \" + str(lon_start))\n",
    "            print(\"lat: \" + str(lat_end) + \" long: \" + str(lon_end))\n",
    "\n",
    "            # Load and process the chunk\n",
    "            data_slice_male = load_dataset(file_path_male, lat_slice, lon_slice)\n",
    "            data_slice_male_quadkey = extract_data_points_vectorized_quadkey(data_slice_male)\n",
    "\n",
    "            #insertIntoDB(data_slice_male_quadkey)\n",
    "            # Union the results into the combined DataFrame\n",
    "            return data_slice_male_quadkey\n",
    "            combined_df = pd.concat([combined_df, data_slice_male_quadkey], ignore_index=True)\n",
    "\n",
    "\n",
    "    #return combined_df"
   ]
  },
  {
   "cell_type": "code",
   "execution_count": 50,
   "metadata": {},
   "outputs": [],
   "source": [
    "def load_male_datasetIntoDB():\n",
    "    file_path_male = \"../data/gpw_v4_basic_demographic_characteristics_rev11_mt_2010_dens_2pt5_min.nc\"\n",
    "\n",
    "    # Initialize an empty DataFrame to store results\n",
    "    # combined_df = pd.DataFrame()\n",
    "\n",
    "    # Process the dataset in 10-degree latitude chunks\n",
    "    # for lat_start in range(85, -90, -10):  # Iterate from 90 to -90 in steps of -10\n",
    "    for lat_start in range(85, -85, -10):  # Iterate from 90 to -90 in steps of -10\n",
    "        lat_end = lat_start - 10\n",
    "        lat_slice = slice(lat_start, lat_end)\n",
    "\n",
    "        # for lon_start in range(-180, 180, 10):  # Iterate from 90 to -90 in steps of -10\n",
    "        for lon_start in range(-180, 180, 10):  # Iterate from 90 to -90 in steps of -10\n",
    "            lon_end = lon_start + 10\n",
    "            lon_slice = slice(lon_start, lon_end)\n",
    "            print(\"lat: \" + str(lat_start) + \" long: \" + str(lon_start))\n",
    "            print(\"lat: \" + str(lat_end) + \" long: \" + str(lon_end))\n",
    "\n",
    "            # Load and process the chunk\n",
    "            data_slice_male = load_dataset(file_path_male, lat_slice, lon_slice)\n",
    "            data_slice_male_quadkey = extract_data_points_vectorized_quadkey(data_slice_male)\n",
    "\n",
    "            insertIntoDB(data_slice_male_quadkey)\n",
    "            # Union the results into the combined DataFrame\n",
    "            # combined_df = pd.concat([combined_df, data_slice_male_quadkey], ignore_index=True)\n",
    "\n",
    "\n",
    "    #return combined_df"
   ]
  },
  {
   "cell_type": "code",
   "execution_count": null,
   "metadata": {},
   "outputs": [],
   "source": []
  },
  {
   "cell_type": "code",
   "execution_count": 59,
   "metadata": {},
   "outputs": [
    {
     "name": "stdout",
     "output_type": "stream",
     "text": [
      "lat: 85 long: -180\n",
      "lat: 75 long: -170\n"
     ]
    },
    {
     "data": {
      "text/plain": [
       "(57600, 31)"
      ]
     },
     "execution_count": 59,
     "metadata": {},
     "output_type": "execute_result"
    }
   ],
   "source": [
    "var = load_male_dataset()\n",
    "\n",
    "var.shape"
   ]
  },
  {
   "cell_type": "code",
   "execution_count": 35,
   "metadata": {},
   "outputs": [
    {
     "data": {
      "text/plain": [
       "┌────────────────┬──────────┬──────────┬──────────┬──────────┬──────────┬──────────┬──────────┬──────────┬──────────┬───────────┬───────────┬───────────┬───────────┬───────────┬───────────┬───────────┬───────────┬───────────┬───────────┬───────────┬───────────┬───────────┬───────────┬───────────┬───────────┬───────────┬───────────┬───────────┬───────────┬───────────┐\n",
       "│    quadkey     │ raster_1 │ raster_2 │ raster_3 │ raster_4 │ raster_5 │ raster_6 │ raster_7 │ raster_8 │ raster_9 │ raster_10 │ raster_11 │ raster_12 │ raster_13 │ raster_14 │ raster_15 │ raster_16 │ raster_17 │ raster_18 │ raster_19 │ raster_20 │ raster_21 │ raster_22 │ raster_23 │ raster_24 │ raster_25 │ raster_26 │ raster_27 │ raster_28 │ raster_29 │ raster_30 │\n",
       "│    varchar     │  float   │  float   │  float   │  float   │  float   │  float   │  float   │  float   │  float   │   float   │   float   │   float   │   float   │   float   │   float   │   float   │   float   │   float   │   float   │   float   │   float   │   float   │   float   │   float   │   float   │   float   │   float   │   float   │   float   │   float   │\n",
       "├────────────────┼──────────┼──────────┼──────────┼──────────┼──────────┼──────────┼──────────┼──────────┼──────────┼───────────┼───────────┼───────────┼───────────┼───────────┼───────────┼───────────┼───────────┼───────────┼───────────┼───────────┼───────────┼───────────┼───────────┼───────────┼───────────┼───────────┼───────────┼───────────┼───────────┼───────────┤\n",
       "│ 00000000200202 │     NULL │     NULL │     NULL │     NULL │     NULL │     NULL │     NULL │     NULL │     NULL │      NULL │      NULL │      NULL │      NULL │      NULL │      NULL │      NULL │      NULL │       3.0 │      NULL │      NULL │   32767.0 │      NULL │      NULL │      NULL │      NULL │      NULL │      NULL │      NULL │      NULL │      NULL │\n",
       "│ 00000000200212 │     NULL │     NULL │     NULL │     NULL │     NULL │     NULL │     NULL │     NULL │     NULL │      NULL │      NULL │      NULL │      NULL │      NULL │      NULL │      NULL │      NULL │       3.0 │      NULL │      NULL │   32767.0 │      NULL │      NULL │      NULL │      NULL │      NULL │      NULL │      NULL │      NULL │      NULL │\n",
       "│ 00000000200302 │     NULL │     NULL │     NULL │     NULL │     NULL │     NULL │     NULL │     NULL │     NULL │      NULL │      NULL │      NULL │      NULL │      NULL │      NULL │      NULL │      NULL │       3.0 │      NULL │      NULL │   32767.0 │      NULL │      NULL │      NULL │      NULL │      NULL │      NULL │      NULL │      NULL │      NULL │\n",
       "│ 00000000200312 │     NULL │     NULL │     NULL │     NULL │     NULL │     NULL │     NULL │     NULL │     NULL │      NULL │      NULL │      NULL │      NULL │      NULL │      NULL │      NULL │      NULL │       3.0 │      NULL │      NULL │   32767.0 │      NULL │      NULL │      NULL │      NULL │      NULL │      NULL │      NULL │      NULL │      NULL │\n",
       "│ 00000000201202 │     NULL │     NULL │     NULL │     NULL │     NULL │     NULL │     NULL │     NULL │     NULL │      NULL │      NULL │      NULL │      NULL │      NULL │      NULL │      NULL │      NULL │       3.0 │      NULL │      NULL │   32767.0 │      NULL │      NULL │      NULL │      NULL │      NULL │      NULL │      NULL │      NULL │      NULL │\n",
       "│ 00000000201212 │     NULL │     NULL │     NULL │     NULL │     NULL │     NULL │     NULL │     NULL │     NULL │      NULL │      NULL │      NULL │      NULL │      NULL │      NULL │      NULL │      NULL │       3.0 │      NULL │      NULL │   32767.0 │      NULL │      NULL │      NULL │      NULL │      NULL │      NULL │      NULL │      NULL │      NULL │\n",
       "│ 00000000201302 │     NULL │     NULL │     NULL │     NULL │     NULL │     NULL │     NULL │     NULL │     NULL │      NULL │      NULL │      NULL │      NULL │      NULL │      NULL │      NULL │      NULL │       3.0 │      NULL │      NULL │   32767.0 │      NULL │      NULL │      NULL │      NULL │      NULL │      NULL │      NULL │      NULL │      NULL │\n",
       "│ 00000000201312 │     NULL │     NULL │     NULL │     NULL │     NULL │     NULL │     NULL │     NULL │     NULL │      NULL │      NULL │      NULL │      NULL │      NULL │      NULL │      NULL │      NULL │       3.0 │      NULL │      NULL │   32767.0 │      NULL │      NULL │      NULL │      NULL │      NULL │      NULL │      NULL │      NULL │      NULL │\n",
       "│ 00000000210202 │     NULL │     NULL │     NULL │     NULL │     NULL │     NULL │     NULL │     NULL │     NULL │      NULL │      NULL │      NULL │      NULL │      NULL │      NULL │      NULL │      NULL │       3.0 │      NULL │      NULL │   32767.0 │      NULL │      NULL │      NULL │      NULL │      NULL │      NULL │      NULL │      NULL │      NULL │\n",
       "│ 00000000210212 │     NULL │     NULL │     NULL │     NULL │     NULL │     NULL │     NULL │     NULL │     NULL │      NULL │      NULL │      NULL │      NULL │      NULL │      NULL │      NULL │      NULL │       3.0 │      NULL │      NULL │   32767.0 │      NULL │      NULL │      NULL │      NULL │      NULL │      NULL │      NULL │      NULL │      NULL │\n",
       "│       ·        │       ·  │       ·  │       ·  │       ·  │       ·  │       ·  │       ·  │       ·  │       ·  │        ·  │        ·  │        ·  │        ·  │        ·  │        ·  │        ·  │        ·  │        ·  │        ·  │        ·  │      ·    │        ·  │        ·  │        ·  │        ·  │        ·  │        ·  │        ·  │        ·  │        ·  │\n",
       "│       ·        │       ·  │       ·  │       ·  │       ·  │       ·  │       ·  │       ·  │       ·  │       ·  │        ·  │        ·  │        ·  │        ·  │        ·  │        ·  │        ·  │        ·  │        ·  │        ·  │        ·  │      ·    │        ·  │        ·  │        ·  │        ·  │        ·  │        ·  │        ·  │        ·  │        ·  │\n",
       "│       ·        │       ·  │       ·  │       ·  │       ·  │       ·  │       ·  │       ·  │       ·  │       ·  │        ·  │        ·  │        ·  │        ·  │        ·  │        ·  │        ·  │        ·  │        ·  │        ·  │        ·  │      ·    │        ·  │        ·  │        ·  │        ·  │        ·  │        ·  │        ·  │        ·  │        ·  │\n",
       "│ 00002300211121 │     NULL │     NULL │     NULL │     NULL │     NULL │     NULL │     NULL │     NULL │     NULL │      NULL │      NULL │      NULL │      NULL │      NULL │      NULL │      NULL │      NULL │       3.0 │      NULL │      NULL │   32767.0 │      NULL │      NULL │      NULL │      NULL │      NULL │      NULL │      NULL │      NULL │      NULL │\n",
       "│ 00002300211131 │     NULL │     NULL │     NULL │     NULL │     NULL │     NULL │     NULL │     NULL │     NULL │      NULL │      NULL │      NULL │      NULL │      NULL │      NULL │      NULL │      NULL │       3.0 │      NULL │      NULL │   32767.0 │      NULL │      NULL │      NULL │      NULL │      NULL │      NULL │      NULL │      NULL │      NULL │\n",
       "│ 00002300300021 │     NULL │     NULL │     NULL │     NULL │     NULL │     NULL │     NULL │     NULL │     NULL │      NULL │      NULL │      NULL │      NULL │      NULL │      NULL │      NULL │      NULL │       3.0 │      NULL │      NULL │   32767.0 │      NULL │      NULL │      NULL │      NULL │      NULL │      NULL │      NULL │      NULL │      NULL │\n",
       "│ 00002300300031 │     NULL │     NULL │     NULL │     NULL │     NULL │     NULL │     NULL │     NULL │     NULL │      NULL │      NULL │      NULL │      NULL │      NULL │      NULL │      NULL │      NULL │       3.0 │      NULL │      NULL │   32767.0 │      NULL │      NULL │      NULL │      NULL │      NULL │      NULL │      NULL │      NULL │      NULL │\n",
       "│ 00002300300120 │     NULL │     NULL │     NULL │     NULL │     NULL │     NULL │     NULL │     NULL │     NULL │      NULL │      NULL │      NULL │      NULL │      NULL │      NULL │      NULL │      NULL │       3.0 │      NULL │      NULL │   32767.0 │      NULL │      NULL │      NULL │      NULL │      NULL │      NULL │      NULL │      NULL │      NULL │\n",
       "│ 00002300300130 │     NULL │     NULL │     NULL │     NULL │     NULL │     NULL │     NULL │     NULL │     NULL │      NULL │      NULL │      NULL │      NULL │      NULL │      NULL │      NULL │      NULL │       3.0 │      NULL │      NULL │   32767.0 │      NULL │      NULL │      NULL │      NULL │      NULL │      NULL │      NULL │      NULL │      NULL │\n",
       "│ 00002300301020 │     NULL │     NULL │     NULL │     NULL │     NULL │     NULL │     NULL │     NULL │     NULL │      NULL │      NULL │      NULL │      NULL │      NULL │      NULL │      NULL │      NULL │       3.0 │      NULL │      NULL │   32767.0 │      NULL │      NULL │      NULL │      NULL │      NULL │      NULL │      NULL │      NULL │      NULL │\n",
       "│ 00002300301030 │     NULL │     NULL │     NULL │     NULL │     NULL │     NULL │     NULL │     NULL │     NULL │      NULL │      NULL │      NULL │      NULL │      NULL │      NULL │      NULL │      NULL │       3.0 │      NULL │      NULL │   32767.0 │      NULL │      NULL │      NULL │      NULL │      NULL │      NULL │      NULL │      NULL │      NULL │\n",
       "│ 00002300301120 │     NULL │     NULL │     NULL │     NULL │     NULL │     NULL │     NULL │     NULL │     NULL │      NULL │      NULL │      NULL │      NULL │      NULL │      NULL │      NULL │      NULL │       3.0 │      NULL │      NULL │   32767.0 │      NULL │      NULL │      NULL │      NULL │      NULL │      NULL │      NULL │      NULL │      NULL │\n",
       "│ 00002300301130 │     NULL │     NULL │     NULL │     NULL │     NULL │     NULL │     NULL │     NULL │     NULL │      NULL │      NULL │      NULL │      NULL │      NULL │      NULL │      NULL │      NULL │       3.0 │      NULL │      NULL │   32767.0 │      NULL │      NULL │      NULL │      NULL │      NULL │      NULL │      NULL │      NULL │      NULL │\n",
       "├────────────────┴──────────┴──────────┴──────────┴──────────┴──────────┴──────────┴──────────┴──────────┴──────────┴───────────┴───────────┴───────────┴───────────┴───────────┴───────────┴───────────┴───────────┴───────────┴───────────┴───────────┴───────────┴───────────┴───────────┴───────────┴───────────┴───────────┴───────────┴───────────┴───────────┴───────────┤\n",
       "│ ? rows (>9999 rows, 20 shown)                                                                                                                                                                                                                                                                                                                                      31 columns │\n",
       "└───────────────────────────────────────────────────────────────────────────────────────────────────────────────────────────────────────────────────────────────────────────────────────────────────────────────────────────────────────────────────────────────────────────────────────────────────────────────────────────────────────────────────────────────────────────────┘"
      ]
     },
     "execution_count": 35,
     "metadata": {},
     "output_type": "execute_result"
    }
   ],
   "source": [
    "con.sql(\"\"\"\n",
    "        SELECT * FROM data_slice_male_long_lat;\n",
    "    \"\"\")"
   ]
  },
  {
   "cell_type": "code",
   "execution_count": 72,
   "metadata": {},
   "outputs": [
    {
     "data": {
      "text/plain": [
       "[('00000000200202',\n",
       "  None,\n",
       "  None,\n",
       "  None,\n",
       "  None,\n",
       "  None,\n",
       "  None,\n",
       "  None,\n",
       "  None,\n",
       "  None,\n",
       "  None,\n",
       "  None,\n",
       "  None,\n",
       "  None,\n",
       "  None,\n",
       "  None,\n",
       "  None,\n",
       "  None,\n",
       "  3.0,\n",
       "  None,\n",
       "  None,\n",
       "  32767.0,\n",
       "  None,\n",
       "  None,\n",
       "  None,\n",
       "  None,\n",
       "  None,\n",
       "  None,\n",
       "  None,\n",
       "  None,\n",
       "  None),\n",
       " ('00002300300021',\n",
       "  None,\n",
       "  None,\n",
       "  None,\n",
       "  None,\n",
       "  None,\n",
       "  None,\n",
       "  None,\n",
       "  None,\n",
       "  None,\n",
       "  None,\n",
       "  None,\n",
       "  None,\n",
       "  None,\n",
       "  None,\n",
       "  None,\n",
       "  None,\n",
       "  None,\n",
       "  3.0,\n",
       "  None,\n",
       "  None,\n",
       "  32767.0,\n",
       "  None,\n",
       "  None,\n",
       "  None,\n",
       "  None,\n",
       "  None,\n",
       "  None,\n",
       "  None,\n",
       "  None,\n",
       "  None)]"
      ]
     },
     "execution_count": 72,
     "metadata": {},
     "output_type": "execute_result"
    }
   ],
   "source": [
    "q = quadkey.from_str(\"00000000200202\")\n",
    "q2 = quadkey.from_str(\"00002300300021\")\n",
    "l = [q, q2]\n",
    "\n",
    "values_clause = ', '.join(f\"('{quadkey}')\" for quadkey in l)\n",
    "# Query with list binding\n",
    "query = f\"\"\"\n",
    "WITH quadkey_temp(quadkey) AS (\n",
    "    VALUES {values_clause}\n",
    ")\n",
    "SELECT t.*\n",
    "FROM data_slice_male_long_lat t\n",
    "JOIN quadkey_temp q\n",
    "ON t.quadkey = q.quadkey\n",
    "\"\"\"\n",
    "# Execute the query\n",
    "con.execute(query).fetchall()"
   ]
  },
  {
   "cell_type": "code",
   "execution_count": 73,
   "metadata": {},
   "outputs": [],
   "source": [
    "def getData(quadkeys):\n",
    "    values_clause = ', '.join(f\"('{quadkey}')\" for quadkey in quadkeys)\n",
    "    # Query with list binding\n",
    "    query = f\"\"\"\n",
    "    WITH quadkey_temp(quadkey) AS (\n",
    "        VALUES {values_clause}\n",
    "    )\n",
    "    SELECT t.*\n",
    "    FROM data_slice_male_long_lat t\n",
    "    JOIN quadkey_temp q\n",
    "    ON t.quadkey = q.quadkey\n",
    "    \"\"\"\n",
    "    # Execute the query\n",
    "    return con.execute(query).fetchall()\n",
    "    "
   ]
  },
  {
   "cell_type": "code",
   "execution_count": 74,
   "metadata": {},
   "outputs": [
    {
     "data": {
      "text/plain": [
       "[('00000000200202',\n",
       "  None,\n",
       "  None,\n",
       "  None,\n",
       "  None,\n",
       "  None,\n",
       "  None,\n",
       "  None,\n",
       "  None,\n",
       "  None,\n",
       "  None,\n",
       "  None,\n",
       "  None,\n",
       "  None,\n",
       "  None,\n",
       "  None,\n",
       "  None,\n",
       "  None,\n",
       "  3.0,\n",
       "  None,\n",
       "  None,\n",
       "  32767.0,\n",
       "  None,\n",
       "  None,\n",
       "  None,\n",
       "  None,\n",
       "  None,\n",
       "  None,\n",
       "  None,\n",
       "  None,\n",
       "  None),\n",
       " ('00002300300021',\n",
       "  None,\n",
       "  None,\n",
       "  None,\n",
       "  None,\n",
       "  None,\n",
       "  None,\n",
       "  None,\n",
       "  None,\n",
       "  None,\n",
       "  None,\n",
       "  None,\n",
       "  None,\n",
       "  None,\n",
       "  None,\n",
       "  None,\n",
       "  None,\n",
       "  None,\n",
       "  3.0,\n",
       "  None,\n",
       "  None,\n",
       "  32767.0,\n",
       "  None,\n",
       "  None,\n",
       "  None,\n",
       "  None,\n",
       "  None,\n",
       "  None,\n",
       "  None,\n",
       "  None,\n",
       "  None)]"
      ]
     },
     "execution_count": 74,
     "metadata": {},
     "output_type": "execute_result"
    }
   ],
   "source": [
    "q = quadkey.from_str(\"00000000200202\")\n",
    "q2 = quadkey.from_str(\"00002300300021\")\n",
    "l = [q, q2]\n",
    "getData(l)"
   ]
  },
  {
   "cell_type": "code",
   "execution_count": 82,
   "metadata": {},
   "outputs": [],
   "source": [
    "# GET https://c.tile.openstreetmap.org/12/678/1594.png\n",
    "# 12/678/1594 -> z/x/y\n",
    "z = 11\n",
    "x = 678\n",
    "y = 1594\n",
    "n = 3 # amount of datapoint we want per tile. 3 would be 4^3 = 64\n",
    "\n",
    "qkey = quadkey.from_tile((x,y), z) # get quadtree for this tile\n",
    "listofQKeys = qkey.children(z+n) # get all children 3 levels deeper -> 64 data points for this tile\n",
    "\n",
    "res = getData(listofQKeys) # load all data for all quadkeys from the database\n",
    "\n"
   ]
  },
  {
   "cell_type": "code",
   "execution_count": null,
   "metadata": {},
   "outputs": [
    {
     "data": {
      "text/plain": [
       "10"
      ]
     },
     "execution_count": 83,
     "metadata": {},
     "output_type": "execute_result"
    }
   ],
   "source": [
    "def loadTileMale(z, y, x):\n",
    "    qkey = quadkey.from_tile((x,y), z) # get quadtree for this tile\n",
    "    listofQKeys = qkey.children(z+n) # get all children 3 levels deeper -> 64 data points for this til\n",
    "    return getData(listofQKeys)"
   ]
  }
 ],
 "metadata": {
  "kernelspec": {
   "display_name": ".venv",
   "language": "python",
   "name": "python3"
  },
  "language_info": {
   "codemirror_mode": {
    "name": "ipython",
    "version": 3
   },
   "file_extension": ".py",
   "mimetype": "text/x-python",
   "name": "python",
   "nbconvert_exporter": "python",
   "pygments_lexer": "ipython3",
   "version": "3.11.0"
  }
 },
 "nbformat": 4,
 "nbformat_minor": 2
}
